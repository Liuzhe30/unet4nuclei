{
 "cells": [
  {
   "cell_type": "markdown",
   "metadata": {},
   "source": [
    "# Preprocessing input images and annotations"
   ]
  },
  {
   "cell_type": "code",
   "execution_count": 1,
   "metadata": {
    "collapsed": true
   },
   "outputs": [],
   "source": [
    "%matplotlib inline\n",
    "\n",
    "import matplotlib.pyplot as plt\n",
    "import numpy as np\n",
    "\n",
    "import skimage.io\n",
    "import skimage.segmentation\n",
    "import skimage.filters\n",
    "\n",
    "import scipy.stats\n",
    "\n",
    "import random\n",
    "\n",
    "import os\n",
    "import shutil\n",
    "\n",
    "import joblib\n",
    "import warnings"
   ]
  },
  {
   "cell_type": "code",
   "execution_count": 2,
   "metadata": {
    "collapsed": true
   },
   "outputs": [],
   "source": [
    "debug = False"
   ]
  },
  {
   "cell_type": "markdown",
   "metadata": {},
   "source": [
    "# Parameters"
   ]
  },
  {
   "cell_type": "code",
   "execution_count": 3,
   "metadata": {
    "collapsed": true
   },
   "outputs": [],
   "source": [
    "# assume a nucleus is at least 10 by 10 pixels big\n",
    "min_nucleus_size = 10**2\n",
    "\n",
    "# Transform gray scale TIF images to PNG\n",
    "transform_images_to_PNG = True\n",
    "\n",
    "# Pixels of the boundary (min 2 pixels)\n",
    "boundary_size = 4"
   ]
  },
  {
   "cell_type": "code",
   "execution_count": 4,
   "metadata": {
    "collapsed": true
   },
   "outputs": [],
   "source": [
    "# general\n",
    "dir_root = '/data1/image-segmentation/BBBC022/'\n",
    "\n",
    "# raw data\n",
    "dir_raw_images = dir_root + 'raw_images/'\n",
    "dir_raw_annotations = dir_root + 'raw_annotations/'\n",
    "\n",
    "# Split files\n",
    "path_files_training = dir_root + 'unet/training.txt'\n",
    "path_files_validation = dir_root + 'unet/validation.txt'\n",
    "path_files_test = dir_root + 'unet/test.txt'"
   ]
  },
  {
   "cell_type": "code",
   "execution_count": 5,
   "metadata": {},
   "outputs": [],
   "source": [
    "# Output directories\n",
    "\n",
    "## split folders\n",
    "dir_training = dir_root + 'unet/split/training/'\n",
    "dir_validation = dir_root + 'unet/split/validation/'\n",
    "dir_test = dir_root + 'unet/split/test/'\n",
    "\n",
    "## boundary experiment\n",
    "dir_boundary_labels = dir_root + 'unet/y/'\n",
    "\n",
    "## input data, normalized and 8 bit\n",
    "dir_images_normalized_8bit = dir_root + 'unet/x/'\n",
    "\n",
    "# Create directories\n",
    "os.makedirs(dir_training, exist_ok=True)\n",
    "os.makedirs(dir_validation, exist_ok=True)\n",
    "os.makedirs(dir_test, exist_ok=True)\n",
    "os.makedirs(dir_boundary_labels, exist_ok=True)\n",
    "os.makedirs(dir_images_normalized_8bit, exist_ok=True)"
   ]
  },
  {
   "cell_type": "markdown",
   "metadata": {},
   "source": [
    "## Create Output Targets: Three Class Boundary"
   ]
  },
  {
   "cell_type": "code",
   "execution_count": 6,
   "metadata": {
    "scrolled": true
   },
   "outputs": [
    {
     "name": "stderr",
     "output_type": "stream",
     "text": [
      "/usr/local/lib/python3.6/site-packages/skimage/util/dtype.py:122: UserWarning: Possible precision loss when converting from float64 to uint8\n",
      "  .format(dtypeobj_in, dtypeobj_out))\n",
      "/usr/local/lib/python3.6/site-packages/skimage/io/_io.py:132: UserWarning: /data1/image-segmentation/BBBC022/unet/y/IXMtest_F12_s8_w1DBD80811-5297-4415-ACD1-EC9286BE76A4.png is a low contrast image\n",
      "  warn('%s is a low contrast image' % fname)\n",
      "/usr/local/lib/python3.6/site-packages/skimage/io/_io.py:132: UserWarning: /data1/image-segmentation/BBBC022/unet/y/IXMtest_F13_s7_w13C1B1D8C-293E-454F-B0FD-6C2C3F9F5173.png is a low contrast image\n",
      "  warn('%s is a low contrast image' % fname)\n",
      "/usr/local/lib/python3.6/site-packages/skimage/io/_io.py:132: UserWarning: /data1/image-segmentation/BBBC022/unet/y/IXMtest_L01_s2_w1E5038251-DBA3-44D0-BC37-E43E2FC8C174.png is a low contrast image\n",
      "  warn('%s is a low contrast image' % fname)\n",
      "/usr/local/lib/python3.6/site-packages/skimage/io/_io.py:132: UserWarning: /data1/image-segmentation/BBBC022/unet/y/IXMtest_L10_s6_w12D12D64C-2639-4CA8-9BB4-99F92C9B7068.png is a low contrast image\n",
      "  warn('%s is a low contrast image' % fname)\n",
      "/usr/local/lib/python3.6/site-packages/skimage/io/_io.py:132: UserWarning: /data1/image-segmentation/BBBC022/unet/y/IXMtest_P23_s7_w13B627CB9-6C57-4049-AAD7-6468A051DD24.png is a low contrast image\n",
      "  warn('%s is a low contrast image' % fname)\n"
     ]
    }
   ],
   "source": [
    "filelist = sorted(os.listdir(dir_raw_annotations))\n",
    "\n",
    "# run over all raw images\n",
    "for filename in filelist:\n",
    "    \n",
    "    # GET ANNOTATION\n",
    "    annot = skimage.io.imread(dir_raw_annotations + filename)\n",
    "    \n",
    "    # strip the first channel\n",
    "    annot = annot[:,:,0]\n",
    "    \n",
    "    # label the annotations nicely to prepare for future filtering operation\n",
    "    annot = skimage.morphology.label(annot)\n",
    "    \n",
    "    # filter small objects, e.g. micronulcei\n",
    "    annot = skimage.morphology.remove_small_objects(annot, min_size=min_nucleus_size)\n",
    "    \n",
    "    # find boundaries\n",
    "    boundaries = skimage.segmentation.find_boundaries(annot)\n",
    "\n",
    "    for k in range(2, boundary_size, 2):\n",
    "        boundaries = skimage.morphology.binary_dilation(boundaries)\n",
    "        \n",
    "    # BINARY LABEL\n",
    "    \n",
    "    # prepare buffer for binary label\n",
    "    label_binary = np.zeros((annot.shape + (3,)))\n",
    "    \n",
    "    # write binary label\n",
    "    label_binary[(annot == 0) & (boundaries == 0), 0] = 1\n",
    "    label_binary[(annot != 0) & (boundaries == 0), 1] = 1\n",
    "    label_binary[boundaries == 1, 2] = 1\n",
    "    \n",
    "    # save it - converts image to range from 0 to 255\n",
    "    skimage.io.imsave(dir_boundary_labels + filename, label_binary)\n",
    "    \n",
    "    if(debug):\n",
    "        print(annot.dtype, annot.shape)\n",
    "        \n",
    "        # plot original annotation\n",
    "        plt.imshow(annot)\n",
    "        plt.colorbar()\n",
    "        plt.show()\n",
    "        \n",
    "        # plot boundary labels\n",
    "        plt.imshow(label_binary)\n",
    "        plt.colorbar()\n",
    "        plt.show()"
   ]
  },
  {
   "cell_type": "markdown",
   "metadata": {},
   "source": [
    "## Image Preprocessing"
   ]
  },
  {
   "cell_type": "code",
   "execution_count": 7,
   "metadata": {
    "scrolled": true
   },
   "outputs": [
    {
     "name": "stderr",
     "output_type": "stream",
     "text": [
      "/usr/local/lib/python3.6/site-packages/skimage/util/dtype.py:122: UserWarning: Possible precision loss when converting from float64 to uint8\n",
      "  .format(dtypeobj_in, dtypeobj_out))\n"
     ]
    }
   ],
   "source": [
    "if transform_images_to_PNG:\n",
    "\n",
    "    filelist = sorted(os.listdir(dir_raw_images))\n",
    "\n",
    "    # run over all raw images\n",
    "    for filename in filelist:\n",
    "\n",
    "        # load image and its annotation\n",
    "        img = skimage.io.imread(dir_raw_images + filename)\n",
    "\n",
    "        if(debug):\n",
    "            print(\"BEFORE\")\n",
    "            print(img.dtype, img.shape)\n",
    "            plt.imshow(img)\n",
    "            plt.show()\n",
    "            plt.hist(img.flatten())\n",
    "            plt.show()        \n",
    "\n",
    "        # IMAGE\n",
    "\n",
    "        # normalize to [0,1]\n",
    "        percentile = 99.9\n",
    "        high = np.percentile(img, percentile)\n",
    "        low = np.percentile(img, 100-percentile)\n",
    "\n",
    "        img = np.minimum(high, img)\n",
    "        img = np.maximum(low, img)\n",
    "\n",
    "        img = (img - low) / (high - low) # gives float64, thus cast to 8 bit later\n",
    "        img = skimage.img_as_ubyte(img) \n",
    "\n",
    "        skimage.io.imsave(dir_images_normalized_8bit + filename[:-3] + 'png', img)\n",
    "\n",
    "        if(debug):\n",
    "            print(\"AFTER\")\n",
    "            print(img.dtype, img.shape)\n",
    "            plt.imshow(img)\n",
    "            plt.show()\n",
    "            plt.hist(img.flatten())\n",
    "            plt.show()\n",
    "else:\n",
    "    dir_images_normalized_8bit = dir_raw_images"
   ]
  },
  {
   "cell_type": "markdown",
   "metadata": {},
   "source": [
    "## Splitting Up\n",
    "- Split up in training, validation and test sets"
   ]
  },
  {
   "cell_type": "code",
   "execution_count": 8,
   "metadata": {
    "collapsed": true
   },
   "outputs": [],
   "source": [
    "with open(path_files_training) as f:\n",
    "    training_files = f.read().splitlines()\n",
    "with open(path_files_validation) as f:\n",
    "    validation_files = f.read().splitlines()\n",
    "with open(path_files_test) as f:\n",
    "    test_files = f.read().splitlines()"
   ]
  },
  {
   "cell_type": "code",
   "execution_count": 9,
   "metadata": {},
   "outputs": [],
   "source": [
    "os.makedirs(dir_training + 'x/', exist_ok=True)\n",
    "os.makedirs(dir_validation + 'x/0/', exist_ok=True)\n",
    "os.makedirs(dir_test + 'x/0/', exist_ok=True)\n",
    "\n",
    "os.makedirs(dir_training + 'y/', exist_ok=True)\n",
    "os.makedirs(dir_validation + 'y/0/', exist_ok=True)\n",
    "os.makedirs(dir_test + 'y/0/', exist_ok=True)\n",
    "\n",
    "for filename in training_files:\n",
    "    shutil.copyfile(dir_images_normalized_8bit + filename, dir_training + 'x/' + filename)\n",
    "    shutil.copyfile(dir_boundary_labels + filename, dir_training + 'y/' + filename)\n",
    "    \n",
    "for filename in validation_files:\n",
    "    shutil.copyfile(dir_images_normalized_8bit + filename, dir_validation + 'x/0/' + filename)\n",
    "    shutil.copyfile(dir_boundary_labels + filename, dir_validation + 'y/0/' + filename)\n",
    "    \n",
    "for filename in test_files:\n",
    "    shutil.copyfile(dir_images_normalized_8bit + filename, dir_test + 'x/0/' + filename)\n",
    "    shutil.copyfile(dir_boundary_labels + filename, dir_test + 'y/0/' + filename)"
   ]
  },
  {
   "cell_type": "code",
   "execution_count": null,
   "metadata": {
    "collapsed": true
   },
   "outputs": [],
   "source": []
  }
 ],
 "metadata": {
  "kernelspec": {
   "display_name": "Python 3",
   "language": "python",
   "name": "python3"
  },
  "language_info": {
   "codemirror_mode": {
    "name": "ipython",
    "version": 3
   },
   "file_extension": ".py",
   "mimetype": "text/x-python",
   "name": "python",
   "nbconvert_exporter": "python",
   "pygments_lexer": "ipython3",
   "version": "3.6.1"
  }
 },
 "nbformat": 4,
 "nbformat_minor": 2
}
