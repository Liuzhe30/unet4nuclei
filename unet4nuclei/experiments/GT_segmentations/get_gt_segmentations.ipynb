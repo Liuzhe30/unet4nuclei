{
 "cells": [
  {
   "cell_type": "code",
   "execution_count": null,
   "metadata": {},
   "outputs": [],
   "source": [
    "%matplotlib inline\n",
    "import matplotlib.pyplot as plt\n",
    "\n",
    "import skimage.io\n",
    "import skimage.morphology\n",
    "\n",
    "import os.path\n",
    "\n",
    "import sys\n",
    "\n",
    "sys.path.append('/home/jr0th/github/segmentation/code/')\n",
    "import helper.metrics\n",
    "\n",
    "import numpy as np"
   ]
  },
  {
   "cell_type": "code",
   "execution_count": null,
   "metadata": {
    "collapsed": true
   },
   "outputs": [],
   "source": [
    "dir_gt_label = '/home/jr0th/github/segmentation/data/BBBC022/raw/raw_annotations/'\n",
    "out_dir_segm_gt = '/home/jr0th/github/segmentation/experiments/GT_segmentations/'\n",
    "\n",
    "path_files_test = '/home/jr0th/github/segmentation/data/BBBC022/test.txt'"
   ]
  },
  {
   "cell_type": "code",
   "execution_count": null,
   "metadata": {
    "collapsed": true
   },
   "outputs": [],
   "source": [
    "# assume a nucleus is at least 10 by 10 pixels big\n",
    "min_nucleus_size = 10**2"
   ]
  },
  {
   "cell_type": "code",
   "execution_count": null,
   "metadata": {
    "collapsed": true
   },
   "outputs": [],
   "source": [
    "with open(path_files_test) as f:\n",
    "    test_files = f.read().splitlines()   "
   ]
  },
  {
   "cell_type": "code",
   "execution_count": null,
   "metadata": {},
   "outputs": [],
   "source": [
    "for filename in test_files:\n",
    "    \n",
    "    \n",
    "    gt_label = skimage.io.imread(dir_gt_label + filename)[:,:,0]\n",
    "    gt_label = skimage.morphology.label(gt_label)\n",
    "    gt_label = skimage.morphology.remove_small_objects(gt_label, min_size=min_nucleus_size)\n",
    "    gt_label = skimage.morphology.label(gt_label)\n",
    "    \n",
    "    skimage.io.imsave(out_dir_segm_gt + filename, gt_label)"
   ]
  }
 ],
 "metadata": {
  "kernelspec": {
   "display_name": "Python 3",
   "language": "python",
   "name": "python3"
  },
  "language_info": {
   "codemirror_mode": {
    "name": "ipython",
    "version": 3
   },
   "file_extension": ".py",
   "mimetype": "text/x-python",
   "name": "python",
   "nbconvert_exporter": "python",
   "pygments_lexer": "ipython3",
   "version": "3.6.1"
  }
 },
 "nbformat": 4,
 "nbformat_minor": 2
}
