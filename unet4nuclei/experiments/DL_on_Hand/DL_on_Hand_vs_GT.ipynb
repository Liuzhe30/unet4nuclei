{
 "cells": [
  {
   "cell_type": "code",
   "execution_count": 1,
   "metadata": {},
   "outputs": [
    {
     "ename": "RuntimeError",
     "evalue": "module compiled against API version 0xb but this version of numpy is 0xa",
     "output_type": "error",
     "traceback": [
      "\u001b[0;31m---------------------------------------------------------------------------\u001b[0m",
      "\u001b[0;31mRuntimeError\u001b[0m                              Traceback (most recent call last)",
      "\u001b[0;31mRuntimeError\u001b[0m: module compiled against API version 0xb but this version of numpy is 0xa"
     ]
    },
    {
     "name": "stderr",
     "output_type": "stream",
     "text": [
      "Using TensorFlow backend.\n"
     ]
    }
   ],
   "source": [
    "%matplotlib inline\n",
    "import matplotlib.pyplot as plt\n",
    "\n",
    "import skimage.io\n",
    "import skimage.morphology\n",
    "\n",
    "import os.path\n",
    "\n",
    "import sys\n",
    "\n",
    "sys.path.append('/home/jr0th/github/segmentation/code/')\n",
    "import helper.metrics\n",
    "\n",
    "import numpy as np"
   ]
  },
  {
   "cell_type": "code",
   "execution_count": 2,
   "metadata": {
    "collapsed": true
   },
   "outputs": [],
   "source": [
    "# problem-specific paths\n",
    "\n",
    "tag = \"DL_on_Hand_8\"\n",
    "dir_root = '/home/jr0th/github/segmentation/experiments/DL_on_Hand/'\n",
    "\n",
    "in_dir_segm_mo = dir_root + tag + '/segm/'\n",
    "\n",
    "out_dir_IoU = dir_root + tag + '/IoU/'\n",
    "out_path_result_txt = dir_root + tag + '/results_table_' + tag + '.txt'"
   ]
  },
  {
   "cell_type": "code",
   "execution_count": 3,
   "metadata": {
    "collapsed": true
   },
   "outputs": [],
   "source": [
    "# constant paths\n",
    "in_dir_segm_gt = dir_root + '../GT_segmentations/'\n",
    "\n",
    "path_files_test = '/home/jr0th/github/segmentation/data/BBBC022/test.txt'"
   ]
  },
  {
   "cell_type": "code",
   "execution_count": 4,
   "metadata": {
    "collapsed": true
   },
   "outputs": [],
   "source": [
    "with open(path_files_test) as f:\n",
    "    test_files = f.read().splitlines()"
   ]
  },
  {
   "cell_type": "code",
   "execution_count": 5,
   "metadata": {
    "collapsed": true
   },
   "outputs": [],
   "source": [
    "# buffer for results\n",
    "results = np.empty(shape = (0, 4))\n",
    "\n",
    "# loop over all images\n",
    "for filename in test_files:\n",
    "    \n",
    "    filename_wo_ext = os.path.splitext(filename)[0]\n",
    "    \n",
    "    # get GT label\n",
    "    gt_label = skimage.io.imread(in_dir_segm_gt + filename)\n",
    "    \n",
    "    # get GT label\n",
    "    mo_label = skimage.io.imread(in_dir_segm_mo + filename)\n",
    "    \n",
    "    nb_gt_cells = np.max(gt_label)\n",
    "    \n",
    "    [nb_overdetection, nb_underdetection, mean_IoU, IoUs] = helper.metrics.compare_two_labels(mo_label, gt_label, True)\n",
    "    \n",
    "    np.save(out_dir_IoU + filename_wo_ext, IoUs)\n",
    "    \n",
    "    result = np.hstack((nb_overdetection, nb_underdetection, mean_IoU, nb_gt_cells))\n",
    "    results = np.vstack((results, result))"
   ]
  },
  {
   "cell_type": "code",
   "execution_count": 6,
   "metadata": {},
   "outputs": [],
   "source": [
    "np.savetxt(out_path_result_txt, results)"
   ]
  }
 ],
 "metadata": {
  "kernelspec": {
   "display_name": "Python 3",
   "language": "python",
   "name": "python3"
  },
  "language_info": {
   "codemirror_mode": {
    "name": "ipython",
    "version": 3
   },
   "file_extension": ".py",
   "mimetype": "text/x-python",
   "name": "python",
   "nbconvert_exporter": "python",
   "pygments_lexer": "ipython3",
   "version": "3.6.1"
  }
 },
 "nbformat": 4,
 "nbformat_minor": 2
}
