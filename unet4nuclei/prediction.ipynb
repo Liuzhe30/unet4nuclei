{
 "cells": [
  {
   "cell_type": "code",
   "execution_count": null,
   "metadata": {},
   "outputs": [],
   "source": [
    "%matplotlib inline\n",
    "import skimage.io\n",
    "import skimage.morphology\n",
    "import matplotlib.pyplot as plt\n",
    "\n",
    "import os.path\n",
    "import os\n",
    "\n",
    "import utils.metrics\n",
    "import utils.model_builder\n",
    "\n",
    "import numpy as np\n",
    "\n",
    "import tensorflow as tf\n",
    "import keras"
   ]
  },
  {
   "cell_type": "code",
   "execution_count": null,
   "metadata": {},
   "outputs": [],
   "source": [
    "debug = True\n",
    "cell_min_size = 10**2\n",
    "boundary_boost_factor = 2"
   ]
  },
  {
   "cell_type": "code",
   "execution_count": null,
   "metadata": {},
   "outputs": [],
   "source": [
    "base_dir = \"/data1/image-segmentation/BBBC022/unet/\"\n",
    "\n",
    "dir_images = base_dir + \"split/validation/x/0/\"\n",
    "\n",
    "tag = \"01\"\n",
    "\n",
    "out_dir_probmap = base_dir + \"experiments/\" + tag + \"/out/prob/\"\n",
    "out_dir_label = base_dir + \"experiments/\" + tag + \"/out/segm/\"\n",
    "\n",
    "os.makedirs(out_dir_probmap, exist_ok=True)\n",
    "os.makedirs(out_dir_label, exist_ok=True)\n",
    "\n",
    "weights_path = base_dir + \"experiments/\" + tag + \"/checkpoints/0015.hdf5\""
   ]
  },
  {
   "cell_type": "code",
   "execution_count": null,
   "metadata": {},
   "outputs": [],
   "source": [
    "# build session running on GPU 1\n",
    "configuration = tf.ConfigProto()\n",
    "configuration.gpu_options.allow_growth = True\n",
    "configuration.gpu_options.visible_device_list = \"0\"\n",
    "session = tf.Session(config = configuration)\n",
    "\n",
    "# apply session\n",
    "keras.backend.set_session(session)"
   ]
  },
  {
   "cell_type": "code",
   "execution_count": null,
   "metadata": {
    "scrolled": true
   },
   "outputs": [],
   "source": [
    "batch_size = 1\n",
    "\n",
    "bit_depth = 8\n",
    "\n",
    "imagebuffer = skimage.io.imread_collection(dir_images + '*.png')\n",
    "images = imagebuffer.concatenate()\n",
    "\n",
    "dim1 = images.shape[1]\n",
    "dim2 = images.shape[2]\n",
    "\n",
    "images = images.reshape((-1, dim1, dim2, 1))\n",
    "\n",
    "# preprocess\n",
    "images = images / 255\n",
    "\n",
    "# build model and laod weights\n",
    "model = utils.model_builder.get_model_3_class(dim1, dim2)\n",
    "model.load_weights(weights_path)\n",
    "\n",
    "predictions = model.predict(images, batch_size = 1)\n",
    "\n",
    "print(predictions.shape)\n",
    "\n",
    "model.summary()"
   ]
  },
  {
   "cell_type": "code",
   "execution_count": null,
   "metadata": {},
   "outputs": [],
   "source": [
    "# print one prediction for debug purposes\n",
    "if(debug):\n",
    "    plt.imshow(predictions[42].squeeze())\n",
    "    plt.show()\n",
    "    print(np.max(predictions[42][:,:,1]))"
   ]
  },
  {
   "cell_type": "code",
   "execution_count": null,
   "metadata": {
    "scrolled": true
   },
   "outputs": [],
   "source": [
    "for i in range(len(images)):\n",
    "\n",
    "    filename = imagebuffer.files[i]\n",
    "    filename = os.path.basename(filename)\n",
    "    print(filename)\n",
    "    \n",
    "    probmap = predictions[i].squeeze() #[:,:,2]\n",
    "    \n",
    "    plt.imshow(probmap)\n",
    "    plt.show()\n",
    "    \n",
    "    skimage.io.imsave(out_dir_probmap + filename, probmap)\n",
    "    \n",
    "    #contour = utils.metrics.probmap_to_contour(probmap, threshold=0.2)\n",
    "    #contour = contour.astype(np.float32)\n",
    "    \n",
    "    pred = utils.metrics.probmap_to_pred(probmap, boundary_boost_factor)\n",
    "\n",
    "    plt.imshow(pred)\n",
    "    plt.show()\n",
    "       \n",
    "    #label = utils.metrics.contour_to_label(contour, images[i])\n",
    "    label = utils.metrics.pred_to_label(pred, cell_min_size)\n",
    "    \n",
    "    plt.imshow(label)\n",
    "    plt.show()\n",
    "    \n",
    "    skimage.io.imsave(out_dir_label + filename, label)"
   ]
  },
  {
   "cell_type": "code",
   "execution_count": null,
   "metadata": {},
   "outputs": [],
   "source": []
  }
 ],
 "metadata": {
  "kernelspec": {
   "display_name": "Python 3",
   "language": "python",
   "name": "python3"
  },
  "language_info": {
   "codemirror_mode": {
    "name": "ipython",
    "version": 3
   },
   "file_extension": ".py",
   "mimetype": "text/x-python",
   "name": "python",
   "nbconvert_exporter": "python",
   "pygments_lexer": "ipython3",
   "version": "3.6.4"
  }
 },
 "nbformat": 4,
 "nbformat_minor": 2
}
