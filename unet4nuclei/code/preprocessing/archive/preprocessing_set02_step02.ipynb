{
 "cells": [
  {
   "cell_type": "code",
   "execution_count": 6,
   "metadata": {
    "collapsed": true
   },
   "outputs": [],
   "source": [
    "import glob\n",
    "import random\n",
    "import shutil\n",
    "import os.path"
   ]
  },
  {
   "cell_type": "code",
   "execution_count": 7,
   "metadata": {
    "collapsed": true
   },
   "outputs": [],
   "source": [
    "data_set_dir = \"/home/jr0th/github/segmentation/data/set02/\"\n",
    "test_split = 0.3\n",
    "validation_split = 0.1\n",
    "\n",
    "# derived directories\n",
    "in_dir_images = data_set_dir + \"all_images/\"\n",
    "in_dir_labels = data_set_dir + \"all_labels/\"\n",
    "\n",
    "training_dir = data_set_dir + \"training/\"\n",
    "validation_dir = data_set_dir + \"validation/\"\n",
    "test_dir = data_set_dir + \"test/\""
   ]
  },
  {
   "cell_type": "code",
   "execution_count": 8,
   "metadata": {
    "collapsed": false
   },
   "outputs": [
    {
     "name": "stdout",
     "output_type": "stream",
     "text": [
      "99\n"
     ]
    }
   ],
   "source": [
    "file_list = glob.glob(in_dir_images + '*.png')\n",
    "\n",
    "# permute file list\n",
    "random.shuffle(file_list)"
   ]
  },
  {
   "cell_type": "code",
   "execution_count": 9,
   "metadata": {
    "collapsed": false
   },
   "outputs": [],
   "source": [
    "nb_files = len(file_list)\n",
    "test_last_index = int(test_split * nb_files)\n",
    "validation_lastIndex = test_last_index + int(validation_split * nb_files)\n",
    "\n",
    "test_files = file_list[0:test_last_index]\n",
    "validation_files = file_list[test_last_index:validation_lastIndex]\n",
    "training_files = file_list[validation_lastIndex:]\n",
    "\n",
    "for filepath in training_files:\n",
    "    filename = os.path.basename(filepath)\n",
    "    shutil.copyfile(in_dir_images + filename, training_dir + 'x/' + filename)\n",
    "    shutil.copyfile(in_dir_labels + filename, training_dir + 'y/' + filename)\n",
    "    \n",
    "for filepath in validation_files:\n",
    "    filename = os.path.basename(filepath)\n",
    "    shutil.copyfile(in_dir_images + filename, validation_dir + 'x/' + filename)\n",
    "    shutil.copyfile(in_dir_labels + filename, validation_dir + 'y/' + filename)\n",
    "    \n",
    "for filepath in test_files:\n",
    "    filename = os.path.basename(filepath)\n",
    "    shutil.copyfile(in_dir_images + filename, test_dir + 'x/' + filename)\n",
    "    shutil.copyfile(in_dir_labels + filename, test_dir + 'y/' + filename)"
   ]
  }
 ],
 "metadata": {
  "kernelspec": {
   "display_name": "Python 3",
   "language": "python",
   "name": "python3"
  },
  "language_info": {
   "codemirror_mode": {
    "name": "ipython",
    "version": 3
   },
   "file_extension": ".py",
   "mimetype": "text/x-python",
   "name": "python",
   "nbconvert_exporter": "python",
   "pygments_lexer": "ipython3",
   "version": "3.5.2"
  }
 },
 "nbformat": 4,
 "nbformat_minor": 2
}
