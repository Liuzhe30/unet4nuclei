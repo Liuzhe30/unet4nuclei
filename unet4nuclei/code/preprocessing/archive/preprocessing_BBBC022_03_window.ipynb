{
 "cells": [
  {
   "cell_type": "code",
   "execution_count": 1,
   "metadata": {
    "collapsed": true,
    "deletable": true,
    "editable": true
   },
   "outputs": [],
   "source": [
    "# block images (One should not do that before splitting up the data to avoid correlation. Thus, lots of boilerplate code here)\n",
    "\n",
    "import os.path\n",
    "\n",
    "import skimage.io\n",
    "\n",
    "import joblib\n",
    "import warnings\n",
    "\n",
    "import numpy as np\n",
    "\n",
    "from PIL import ImageFile\n",
    "ImageFile.LOAD_TRUNCATED_IMAGES = True"
   ]
  },
  {
   "cell_type": "code",
   "execution_count": 2,
   "metadata": {
    "collapsed": true,
    "deletable": true,
    "editable": true
   },
   "outputs": [],
   "source": [
    "data_set_dir = \"/home/jr0th/github/segmentation/data/BBBC022/\"\n",
    "\n",
    "# derived directories\n",
    "in_dir_images_training = data_set_dir + \"training/x_big/\"\n",
    "in_dir_labels_training = data_set_dir + \"training/y_big/\"\n",
    "\n",
    "in_dir_images_validation = data_set_dir + \"validation/x_big/\"\n",
    "in_dir_labels_validation = data_set_dir + \"validation/y_big/\"\n",
    "\n",
    "in_dir_images_test = data_set_dir + \"test/x_big/\"\n",
    "in_dir_labels_test = data_set_dir + \"test/y_big/\"\n",
    "\n",
    "out_dir_images_training = data_set_dir + \"training/x/all/\"\n",
    "out_dir_labels_training = data_set_dir + \"training/y/all/\"\n",
    "\n",
    "out_dir_images_validation = data_set_dir + \"validation/x/all/\"\n",
    "out_dir_labels_validation = data_set_dir + \"validation/y/all/\"\n",
    "\n",
    "out_dir_images_test = data_set_dir + \"test/x/all/\"\n",
    "out_dir_labels_test = data_set_dir + \"test/y/all/\"\n",
    "\n",
    "in_dirs_images = [in_dir_images_training, in_dir_images_validation, in_dir_images_test]\n",
    "in_dirs_labels = [in_dir_labels_training, in_dir_labels_validation, in_dir_labels_test]\n",
    "\n",
    "out_dirs_images = [out_dir_images_training, out_dir_images_validation, out_dir_images_test]\n",
    "out_dirs_labels = [out_dir_labels_training, out_dir_labels_validation, out_dir_labels_test]"
   ]
  },
  {
   "cell_type": "code",
   "execution_count": 3,
   "metadata": {
    "collapsed": true,
    "deletable": true,
    "editable": true
   },
   "outputs": [],
   "source": [
    "def process_image(index, images, out_dir_image):\n",
    "    \n",
    "    image = images[index]\n",
    "\n",
    "    path = images.files[index]\n",
    "    filename = os.path.basename(path)\n",
    "    \n",
    "    split = os.path.splitext(filename)\n",
    "\n",
    "    blocks = skimage.util.view_as_windows(image, (256, 256), 256)\n",
    "    \n",
    "    for i in range(blocks.shape[0]):\n",
    "        for j in range(blocks.shape[1]):\n",
    "            patchname = split[0] + '_' + str(i) + '_' + str(j) + split[1]\n",
    "            with warnings.catch_warnings():\n",
    "                warnings.simplefilter(\"ignore\")\n",
    "                skimage.io.imsave(out_dir_image + patchname, blocks[i,j])"
   ]
  },
  {
   "cell_type": "code",
   "execution_count": 4,
   "metadata": {
    "collapsed": true,
    "deletable": true,
    "editable": true
   },
   "outputs": [],
   "source": [
    "def process_label(index, labels, out_dir_label):\n",
    "    \n",
    "    label = labels[index]\n",
    "\n",
    "    path = labels.files[index]\n",
    "    filename = os.path.basename(path)\n",
    "    \n",
    "    split = os.path.splitext(filename)\n",
    "\n",
    "    blocks = skimage.util.view_as_windows(label, (256, 256, 3), 256)\n",
    "    blocks = blocks.squeeze()\n",
    "    \n",
    "    for i in range(blocks.shape[0]):\n",
    "        for j in range(blocks.shape[1]):\n",
    "            patchname = split[0] + '_' + str(i) + '_' + str(j) + split[1]\n",
    "            with warnings.catch_warnings():\n",
    "                warnings.simplefilter(\"ignore\")\n",
    "                skimage.io.imsave(out_dir_label + patchname, blocks[i,j])"
   ]
  },
  {
   "cell_type": "code",
   "execution_count": 5,
   "metadata": {
    "collapsed": true,
    "deletable": true,
    "editable": true
   },
   "outputs": [],
   "source": [
    "def process_image_dir(in_dir_image, out_dir_image):\n",
    "    images = skimage.io.imread_collection(in_dir_image + '*.png')\n",
    "    joblib.Parallel(n_jobs = 100)(joblib.delayed(process_image)(i, images, out_dir_image) for i in range(len(images)))  \n",
    "    \n",
    "def process_label_dir(in_dir_label, out_dir_label):\n",
    "    labels = skimage.io.imread_collection(in_dir_label + '*.png')\n",
    "    joblib.Parallel(n_jobs = 100)(joblib.delayed(process_label)(i, labels, out_dir_label) for i in range(len(labels)))  "
   ]
  },
  {
   "cell_type": "code",
   "execution_count": 6,
   "metadata": {
    "collapsed": false,
    "deletable": true,
    "editable": true
   },
   "outputs": [
    {
     "name": "stdout",
     "output_type": "stream",
     "text": [
      "0\n",
      "1\n",
      "2\n"
     ]
    }
   ],
   "source": [
    "for i in range(len(in_dirs_images)):\n",
    "    print(str(i))\n",
    "    process_image_dir(in_dirs_images[i], out_dirs_images[i])"
   ]
  },
  {
   "cell_type": "code",
   "execution_count": 7,
   "metadata": {
    "collapsed": false,
    "deletable": true,
    "editable": true
   },
   "outputs": [
    {
     "name": "stdout",
     "output_type": "stream",
     "text": [
      "0\n",
      "1\n",
      "2\n"
     ]
    }
   ],
   "source": [
    "for i in range(len(in_dirs_labels)):\n",
    "    print(str(i))\n",
    "    process_label_dir(in_dirs_labels[i], out_dirs_labels[i])"
   ]
  },
  {
   "cell_type": "code",
   "execution_count": null,
   "metadata": {
    "collapsed": false,
    "deletable": true,
    "editable": true,
    "scrolled": false
   },
   "outputs": [],
   "source": [
    "%matplotlib inline\n",
    "import matplotlib.pyplot as plt\n",
    "\n",
    "img_y = skimage.io.imread('/home/jr0th/github/segmentation/data/BBBC022_100/validation/y/all/BBBC022_v1_images_20586w1_IXMtest_E09_s8_w1FF2EA9D2-CCAA-4E5C-B548-013DE72C4BC3_0_0.png')\n",
    "img_x = skimage.io.imread('/home/jr0th/github/segmentation/data/BBBC022_100/validation/x/all/BBBC022_v1_images_20586w1_IXMtest_E09_s8_w1FF2EA9D2-CCAA-4E5C-B548-013DE72C4BC3_0_0.png')\n",
    "\n",
    "print(img_x.dtype)\n",
    "print(img_y.dtype)\n",
    "img_y_8bit = skimage.img_as_uint(img_y)\n",
    "\n",
    "plt.figure()\n",
    "plt.imshow(img_x)\n",
    "plt.show()\n",
    "plt.figure()\n",
    "plt.imshow(img_y_8bit)\n",
    "plt.show()\n",
    "\n",
    "plt.figure()\n",
    "plt.hist(img_x.flatten())\n",
    "plt.show()\n",
    "plt.figure()\n",
    "plt.hist(img_y.flatten())\n",
    "plt.show()\n",
    "                        "
   ]
  }
 ],
 "metadata": {
  "kernelspec": {
   "display_name": "Python 3",
   "language": "python",
   "name": "python3"
  },
  "language_info": {
   "codemirror_mode": {
    "name": "ipython",
    "version": 3
   },
   "file_extension": ".py",
   "mimetype": "text/x-python",
   "name": "python",
   "nbconvert_exporter": "python",
   "pygments_lexer": "ipython3",
   "version": "3.6.1"
  }
 },
 "nbformat": 4,
 "nbformat_minor": 2
}
