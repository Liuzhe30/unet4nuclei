{
 "cells": [
  {
   "cell_type": "markdown",
   "metadata": {},
   "source": [
    "# Preprocessing input images and annotations"
   ]
  },
  {
   "cell_type": "code",
   "execution_count": null,
   "metadata": {},
   "outputs": [],
   "source": [
    "%matplotlib inline"
   ]
  },
  {
   "cell_type": "code",
   "execution_count": null,
   "metadata": {},
   "outputs": [],
   "source": [
    "import csv\n",
    "import matplotlib.pyplot as plt\n",
    "import numpy as np\n",
    "import os\n",
    "import pathlib \n",
    "import random\n",
    "import scipy.stats\n",
    "import shutil\n",
    "\n",
    "import skimage.filters\n",
    "import skimage.io\n",
    "import skimage.segmentation\n",
    "\n",
    "import utils.data_augmentation\n",
    "import utils.data_split\n",
    "import warnings\n",
    "\n",
    "from tqdm import tqdm"
   ]
  },
  {
   "cell_type": "markdown",
   "metadata": {},
   "source": [
    "# Parameters"
   ]
  },
  {
   "cell_type": "code",
   "execution_count": null,
   "metadata": {},
   "outputs": [],
   "source": [
    "from config import config_vars\n",
    "config_vars"
   ]
  },
  {
   "cell_type": "code",
   "execution_count": null,
   "metadata": {},
   "outputs": [],
   "source": [
    "# Prepare split files\n",
    "\n",
    "if config_vars[\"create_split_files\"]:\n",
    "    file_list = os.listdir(config_vars[\"dir_raw_images\"])\n",
    "\n",
    "    [list_training, list_test, list_validation] = utils.data_split.create_image_lists(\n",
    "        config_vars[\"dir_raw_images\"],\n",
    "        .5,\n",
    "        .25\n",
    "    )\n",
    "\n",
    "    utils.data_split.write_path_files(config_vars[\"path_files_training\"], list_training)\n",
    "    utils.data_split.write_path_files(config_vars[\"path_files_test\"], list_test)\n",
    "    utils.data_split.write_path_files(config_vars[\"path_files_validation\"], list_validation)"
   ]
  },
  {
   "cell_type": "code",
   "execution_count": null,
   "metadata": {},
   "outputs": [],
   "source": [
    "# Create output directories\n",
    "os.makedirs(config_vars[\"dir_training\"], exist_ok=True)\n",
    "os.makedirs(config_vars[\"dir_validation\"], exist_ok=True)\n",
    "os.makedirs(config_vars[\"dir_test\"], exist_ok=True)\n",
    "os.makedirs(config_vars[\"dir_boundary_labels\"], exist_ok=True)\n",
    "os.makedirs(config_vars[\"dir_images_normalized_8bit\"], exist_ok=True)"
   ]
  },
  {
   "cell_type": "markdown",
   "metadata": {},
   "source": [
    "## Read data partitions\n",
    "- To split up in training, validation and test sets"
   ]
  },
  {
   "cell_type": "code",
   "execution_count": null,
   "metadata": {},
   "outputs": [],
   "source": [
    "with open(config_vars[\"path_files_training\"]) as f:\n",
    "    training_files = f.read().splitlines()\n",
    "    if config_vars[\"max_training_images\"] > 0:\n",
    "        random.shuffle(training_files)\n",
    "        training_files = training_files[0:config_vars[\"max_training_images\"]]\n",
    "        \n",
    "with open(config_vars[\"path_files_validation\"]) as f:\n",
    "    validation_files = f.read().splitlines()\n",
    "    \n",
    "with open(config_vars[\"path_files_test\"]) as f:\n",
    "    test_files = f.read().splitlines()"
   ]
  },
  {
   "cell_type": "markdown",
   "metadata": {},
   "source": [
    "## Create Output Targets: Three Class Boundary"
   ]
  },
  {
   "cell_type": "code",
   "execution_count": null,
   "metadata": {
    "scrolled": false
   },
   "outputs": [],
   "source": [
    "filelist = sorted(os.listdir(config_vars[\"dir_raw_annotations\"]))\n",
    "\n",
    "# run over all raw images\n",
    "for filename in tqdm(filelist):\n",
    "    \n",
    "    # GET ANNOTATION\n",
    "    annot = skimage.io.imread(config_vars[\"dir_raw_annotations\"] + filename)\n",
    "    \n",
    "    # strip the first channel\n",
    "    if len(annot.shape) == 3:\n",
    "        annot = annot[:,:,0]\n",
    "    \n",
    "    # label the annotations nicely to prepare for future filtering operation\n",
    "    annot = skimage.morphology.label(annot)\n",
    "    \n",
    "    # filter small objects, e.g. micronulcei\n",
    "    annot = skimage.morphology.remove_small_objects(annot, min_size=config_vars[\"min_nucleus_size\"])\n",
    "    \n",
    "    # find boundaries\n",
    "    boundaries = skimage.segmentation.find_boundaries(annot)\n",
    "\n",
    "    for k in range(2, config_vars[\"boundary_size\"], 2):\n",
    "        boundaries = skimage.morphology.binary_dilation(boundaries)\n",
    "        \n",
    "    # BINARY LABEL\n",
    "    \n",
    "    # prepare buffer for binary label\n",
    "    label_binary = np.zeros((annot.shape + (3,)))\n",
    "    \n",
    "    # write binary label\n",
    "    label_binary[(annot == 0) & (boundaries == 0), 0] = 1\n",
    "    label_binary[(annot != 0) & (boundaries == 0), 1] = 1\n",
    "    label_binary[boundaries == 1, 2] = 1\n",
    "    \n",
    "    # save it - converts image to range from 0 to 255\n",
    "    skimage.io.imsave(config_vars[\"dir_boundary_labels\"] + filename, label_binary)\n",
    "    \n",
    "\n",
    "# Show example image \n",
    "print(annot.dtype, annot.shape)\n",
    "\n",
    "# plot original annotation\n",
    "plt.figure(figsize=(15,15))\n",
    "plt.imshow(annot)\n",
    "plt.colorbar()\n",
    "plt.show()\n",
    "\n",
    "# plot boundary labels\n",
    "plt.figure(figsize=(15,15))\n",
    "plt.imshow(label_binary)\n",
    "plt.colorbar()\n",
    "plt.show()"
   ]
  },
  {
   "cell_type": "markdown",
   "metadata": {},
   "source": [
    "## Image Preprocessing"
   ]
  },
  {
   "cell_type": "code",
   "execution_count": null,
   "metadata": {
    "scrolled": false
   },
   "outputs": [],
   "source": [
    "if config_vars[\"transform_images_to_PNG\"]:\n",
    "\n",
    "    filelist = sorted(os.listdir(config_vars[\"dir_raw_images\"]))\n",
    "\n",
    "    # run over all raw images\n",
    "    for filename in tqdm(filelist):\n",
    "\n",
    "        # load image and its annotation\n",
    "        orig_img = skimage.io.imread(config_vars[\"dir_raw_images\"] + filename)       \n",
    "\n",
    "        # IMAGE\n",
    "\n",
    "        # normalize to [0,1]\n",
    "        percentile = 99.9\n",
    "        high = np.percentile(orig_img, percentile)\n",
    "        low = np.percentile(orig_img, 100-percentile)\n",
    "\n",
    "        img = np.minimum(high, orig_img)\n",
    "        img = np.maximum(low, img)\n",
    "\n",
    "        img = (img - low) / (high - low) # gives float64, thus cast to 8 bit later\n",
    "        img = skimage.img_as_ubyte(img) \n",
    "\n",
    "        skimage.io.imsave(config_vars[\"dir_images_normalized_8bit\"] + filename[:-3] + 'png', img)\n",
    "\n",
    "    # Show example image\n",
    "    print(\"BEFORE\")\n",
    "    print(img.dtype, img.shape)\n",
    "    plt.imshow(img)\n",
    "    plt.show()\n",
    "    plt.hist(img.flatten())\n",
    "    plt.show() \n",
    "        \n",
    "    print(\"AFTER\")\n",
    "    print(img.dtype, img.shape)\n",
    "    plt.imshow(img)\n",
    "    plt.show()\n",
    "    plt.hist(img.flatten())\n",
    "    plt.show()\n",
    "    \n",
    "else:\n",
    "    config_vars[\"dir_images_normalized_8bit\"] = config_vars[\"dir_raw_images\"]"
   ]
  },
  {
   "cell_type": "markdown",
   "metadata": {},
   "source": [
    "# Augment images (optional) \n",
    "* data augmentation using affine transformations \n",
    "* n_points x n_points data points are equally distributed in the image \n",
    "* distort \n",
    "* n_augmentations images are calculated for each image \n"
   ]
  },
  {
   "cell_type": "code",
   "execution_count": null,
   "metadata": {
    "scrolled": true
   },
   "outputs": [],
   "source": [
    "def generate_augmented_examples(filelist, n_augmentations, n_points, distort, dir_boundary_labels, dir_images_normalized_8bit):\n",
    "    \n",
    "    updated_filelist = []\n",
    "    \n",
    "    # run over all raw images\n",
    "    for filename in tqdm(filelist):\n",
    "            \n",
    "        # check if boundary labels were calculated \n",
    "        my_file = pathlib.Path(dir_boundary_labels + filename)\n",
    "        \n",
    "        if my_file.is_file():\n",
    "            \n",
    "            # load image \n",
    "            x = skimage.io.imread(dir_images_normalized_8bit + filename)\n",
    "            \n",
    "            # load annotation \n",
    "            y = skimage.io.imread(dir_boundary_labels + filename)\n",
    "            \n",
    "            for n in range(1,n_augmentations):\n",
    "                # augment image and annotation \n",
    "                x_augmented, y_augmented = utils.data_augmentation.deform(x, y, points = n_points, distort = distort)\n",
    "                \n",
    "                # filename for augmented images\n",
    "                filename_augmented = os.path.splitext(filename)[0] + '_aug_{:03d}'.format(n) + os.path.splitext(filename)[1]\n",
    "                skimage.io.imsave(dir_images_normalized_8bit + filename_augmented, x)\n",
    "                skimage.io.imsave(dir_boundary_labels + filename_augmented, y)\n",
    "                updated_filelist.append(filename_augmented)\n",
    "                \n",
    "    return filelist + updated_filelist \n",
    "\n",
    "if config_vars[\"augment_images\"]:\n",
    "    training_files = generate_augmented_examples(\n",
    "        training_files, \n",
    "        config_vars[\"n_augmentations\"], \n",
    "        config_vars[\"n_points\"], \n",
    "        config_vars[\"distort\"], \n",
    "        config_vars[\"dir_boundary_labels\"], \n",
    "        config_vars[\"dir_images_normalized_8bit\"]\n",
    "    )\n"
   ]
  },
  {
   "cell_type": "markdown",
   "metadata": {},
   "source": [
    "## Split data\n",
    "- Split up in training, validation and test sets"
   ]
  },
  {
   "cell_type": "code",
   "execution_count": null,
   "metadata": {},
   "outputs": [],
   "source": [
    "# Add a 0 suffix because Keras thinks everything is a classification task organized in directories.\n",
    "\n",
    "os.makedirs(config_vars[\"dir_training\"] + 'x/', exist_ok=True)\n",
    "os.makedirs(config_vars[\"dir_validation\"] + 'x/0/', exist_ok=True)\n",
    "os.makedirs(config_vars[\"dir_test\"] + 'x/0/', exist_ok=True)\n",
    "\n",
    "os.makedirs(config_vars[\"dir_training\"] + 'y/', exist_ok=True)\n",
    "os.makedirs(config_vars[\"dir_validation\"] + 'y/0/', exist_ok=True)\n",
    "os.makedirs(config_vars[\"dir_test\"] + 'y/0/', exist_ok=True)\n",
    "\n",
    "for filename in training_files:\n",
    "    shutil.copyfile(\n",
    "        config_vars[\"dir_images_normalized_8bit\"] + filename, \n",
    "        config_vars[\"dir_training\"] + 'x/' + filename\n",
    "    )\n",
    "    shutil.copyfile(\n",
    "        config_vars[\"dir_boundary_labels\"] + filename, \n",
    "        config_vars[\"dir_training\"] + 'y/' + filename\n",
    "    )\n",
    "    \n",
    "for filename in validation_files:\n",
    "    shutil.copyfile(\n",
    "        config_vars[\"dir_images_normalized_8bit\"] + filename, \n",
    "        config_vars[\"dir_validation\"] + 'x/0/' + filename\n",
    "    )\n",
    "    shutil.copyfile(\n",
    "        config_vars[\"dir_boundary_labels\"] + filename, \n",
    "        config_vars[\"dir_validation\"] + 'y/0/' + filename\n",
    "    )\n",
    "    \n",
    "for filename in test_files:\n",
    "    shutil.copyfile(\n",
    "        config_vars[\"dir_images_normalized_8bit\"] + filename, \n",
    "        config_vars[\"dir_test\"] + 'x/0/' + filename\n",
    "    )\n",
    "    shutil.copyfile(\n",
    "        config_vars[\"dir_boundary_labels\"] + filename, \n",
    "        config_vars[\"dir_test\"] + 'y/0/' + filename\n",
    "    )"
   ]
  },
  {
   "cell_type": "code",
   "execution_count": null,
   "metadata": {},
   "outputs": [],
   "source": []
  }
 ],
 "metadata": {
  "kernelspec": {
   "display_name": "Python 3",
   "language": "python",
   "name": "python3"
  },
  "language_info": {
   "codemirror_mode": {
    "name": "ipython",
    "version": 3
   },
   "file_extension": ".py",
   "mimetype": "text/x-python",
   "name": "python",
   "nbconvert_exporter": "python",
   "pygments_lexer": "ipython3",
   "version": "3.6.4"
  }
 },
 "nbformat": 4,
 "nbformat_minor": 2
}
