{
 "cells": [
  {
   "cell_type": "code",
   "execution_count": null,
   "metadata": {
    "collapsed": true
   },
   "outputs": [],
   "source": [
    "import pandas as pd\n",
    "import shutil"
   ]
  },
  {
   "cell_type": "code",
   "execution_count": null,
   "metadata": {
    "collapsed": true
   },
   "outputs": [],
   "source": [
    "src_dir_start = '/data/bbbc/22/'\n",
    "dst_dir = './raw_images/'"
   ]
  },
  {
   "cell_type": "code",
   "execution_count": null,
   "metadata": {},
   "outputs": [],
   "source": [
    "df = pd.read_csv('./filenames_and_plates.csv', header=None, names=['Filename', 'Plate Number'])\n",
    "print(len(df))\n",
    "for index, row in df.iterrows():\n",
    "    \n",
    "    src = src_dir_start + 'BBBC022_v1_images_' + str(row['Plate Number']) + 'w1/' + row['Filename'][:-3] + 'tif'\n",
    "    dst = dst_dir + row['Filename'][:-3] + 'tif'\n",
    "\n",
    "    shutil.copyfile(src, dst)"
   ]
  }
 ],
 "metadata": {
  "kernelspec": {
   "display_name": "Python 3",
   "language": "python",
   "name": "python3"
  },
  "language_info": {
   "codemirror_mode": {
    "name": "ipython",
    "version": 3
   },
   "file_extension": ".py",
   "mimetype": "text/x-python",
   "name": "python",
   "nbconvert_exporter": "python",
   "pygments_lexer": "ipython3",
   "version": "3.6.1"
  }
 },
 "nbformat": 4,
 "nbformat_minor": 2
}
