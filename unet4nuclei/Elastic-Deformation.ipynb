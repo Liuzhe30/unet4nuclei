{
 "cells": [
  {
   "cell_type": "code",
   "execution_count": null,
   "metadata": {},
   "outputs": [],
   "source": [
    "%matplotlib inline\n",
    "\n",
    "import numpy as np\n",
    "import matplotlib.pyplot as plt\n",
    "from skimage.transform import PiecewiseAffineTransform, warp\n",
    "from skimage import data\n",
    "import skimage.io\n",
    "\n",
    "# http://scikit-image.org/docs/dev/auto_examples/transform/plot_piecewise_affine.html"
   ]
  },
  {
   "cell_type": "code",
   "execution_count": null,
   "metadata": {},
   "outputs": [],
   "source": [
    "def deform(image1, image2, points=10, distort=5.0):\n",
    "    \n",
    "    rows, cols = image1.shape[0], image1.shape[1]\n",
    "    src_cols = np.linspace(0, cols, points)\n",
    "    src_rows = np.linspace(0, rows, points)\n",
    "    src_rows, src_cols = np.meshgrid(src_rows, src_cols)\n",
    "    src = np.dstack([src_cols.flat, src_rows.flat])[0]\n",
    "\n",
    "    # add distortion to coordinates\n",
    "    s = src[:, 1].shape\n",
    "    dst_rows = src[:, 1] + np.random.normal(size=s)*np.random.uniform(0.0, distort, size=s)\n",
    "    dst_cols = src[:, 0] + np.random.normal(size=s)*np.random.uniform(0.0, distort, size=s)\n",
    "    \n",
    "    #dst_rows = dst_rows*1. - distort\n",
    "    #dst_cols = dst_cols*1. - distort\n",
    "    \n",
    "    dst = np.vstack([dst_cols, dst_rows]).T\n",
    "\n",
    "    tform = PiecewiseAffineTransform()\n",
    "    tform.estimate(src, dst)\n",
    "\n",
    "    out_rows = rows #image.shape[0] - 1.5 * 50\n",
    "    out_cols = cols\n",
    "    out1 = warp(image1, tform, output_shape=(out_rows, out_cols), mode=\"symmetric\")\n",
    "    out2 = warp(image2, tform, output_shape=(out_rows, out_cols), mode=\"symmetric\")\n",
    "    \n",
    "    return out1, out2, {\"tform\":tform, \"src\":src, \"out_cols\":out_cols, \"out_rows\":out_rows}"
   ]
  },
  {
   "cell_type": "code",
   "execution_count": null,
   "metadata": {},
   "outputs": [],
   "source": [
    "def display(im1, im2, p, d, params=None):\n",
    "    fig, ax = plt.subplots(1,2, figsize=(18,12))\n",
    "    ax[0].imshow(im1)#[0:256,0:256])\n",
    "    ax[1].imshow(im2)#[0:256,0:256])\n",
    "    ax[0].set_title('Points {} Distort {}'.format(p, d))\n",
    "    if params is not None:\n",
    "        ax[0].plot(params[\"tform\"].inverse(params[\"src\"])[:, 0], params[\"tform\"].inverse(params[\"src\"])[:, 1], '.b')\n",
    "        ax[0].axis((0, params[\"out_cols\"], params[\"out_rows\"], 0))\n",
    "        ax[1].plot(params[\"tform\"].inverse(params[\"src\"])[:, 0], params[\"tform\"].inverse(params[\"src\"])[:, 1], '.b')\n",
    "        ax[1].axis((0, params[\"out_cols\"], params[\"out_rows\"], 0))\n",
    "    plt.show()"
   ]
  },
  {
   "cell_type": "code",
   "execution_count": null,
   "metadata": {},
   "outputs": [],
   "source": [
    "x = skimage.io.imread(\"/data1/image-segmentation/BBBC022/unet/x/IXMtest_G01_s2_w1FBE52723-8BDF-4346-89BB-216A4A69ED1C.png\")\n",
    "y = skimage.io.imread(\"/data1/image-segmentation/BBBC022/unet/y/IXMtest_G01_s2_w1FBE52723-8BDF-4346-89BB-216A4A69ED1C.png\")\n",
    "\n",
    "fig, ax = plt.subplots(1,2, figsize=(18,12))\n",
    "ax[0].imshow(x)\n",
    "ax[1].imshow(y)"
   ]
  },
  {
   "cell_type": "code",
   "execution_count": null,
   "metadata": {
    "scrolled": false
   },
   "outputs": [],
   "source": [
    "for i in range(10, 12, 2):\n",
    "    for j in range(15, 20, 1):\n",
    "        out1, out2, params = deform(x, y, points=i, distort=j)\n",
    "        display(out1, out2, i, j, params)"
   ]
  },
  {
   "cell_type": "code",
   "execution_count": null,
   "metadata": {},
   "outputs": [],
   "source": [
    "%timeit out1, out2, _ = deform(x, y, points=20, distort=6)"
   ]
  },
  {
   "cell_type": "code",
   "execution_count": null,
   "metadata": {},
   "outputs": [],
   "source": []
  }
 ],
 "metadata": {
  "kernelspec": {
   "display_name": "Python 3",
   "language": "python",
   "name": "python3"
  },
  "language_info": {
   "codemirror_mode": {
    "name": "ipython",
    "version": 3
   },
   "file_extension": ".py",
   "mimetype": "text/x-python",
   "name": "python",
   "nbconvert_exporter": "python",
   "pygments_lexer": "ipython3",
   "version": "3.6.4"
  }
 },
 "nbformat": 4,
 "nbformat_minor": 2
}
