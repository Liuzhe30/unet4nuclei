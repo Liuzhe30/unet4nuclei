{
 "cells": [
  {
   "cell_type": "code",
   "execution_count": null,
   "metadata": {},
   "outputs": [],
   "source": [
    "%matplotlib inline\n",
    "import numpy as np\n",
    "import skimage.io\n",
    "import matplotlib.pyplot as plt\n",
    "import skimage.morphology\n",
    "import os\n",
    "import utils.evaluation\n",
    "import pandas as pd\n",
    "import seaborn as sb"
   ]
  },
  {
   "cell_type": "code",
   "execution_count": null,
   "metadata": {},
   "outputs": [],
   "source": [
    "base_dir = \"/data1/image-segmentation/BBBC022/\"\n",
    "\n",
    "dir_gtruth = base_dir + \"raw_annotations/\"\n",
    "\n",
    "tag = \"01\"\n",
    "\n",
    "out_dir_label = base_dir + \"unet/experiments/\" + tag + \"/out/segm/\""
   ]
  },
  {
   "cell_type": "code",
   "execution_count": null,
   "metadata": {},
   "outputs": [],
   "source": [
    "def show(ground_truth, prediction, IOU):\n",
    "    fig, ax = plt.subplots(1, 4, figsize=(18,6))\n",
    "    ax[0].imshow(ground_truth)\n",
    "    A = ground_truth.copy()\n",
    "    B = prediction.copy()\n",
    "    A[A > 0] = 1\n",
    "    B[B > 0] = 1\n",
    "    diff = A - B\n",
    "    ax[1].imshow(diff)\n",
    "    ax[2].imshow(prediction)\n",
    "    ax[3].imshow(IOU)"
   ]
  },
  {
   "cell_type": "code",
   "execution_count": null,
   "metadata": {},
   "outputs": [],
   "source": [
    "def compute_results(ground_truth, prediction, results):\n",
    "    # Compute Intersection over Union\n",
    "    IOU = utils.evaluation.intersection_over_union(ground_truth, prediction)\n",
    "    show(ground_truth, prediction, IOU)\n",
    "\n",
    "    # Calculate precision at all thresholds\n",
    "    for t in np.arange(0.5, 1.0, 0.05):\n",
    "        p = utils.evaluation.precision_at(t, IOU)\n",
    "        res = {\"Image\": image_name, \"Threshold\": t, \"Precision\": p}\n",
    "        row = len(results)\n",
    "        results.loc[row] = res\n",
    "        \n",
    "    return results"
   ]
  },
  {
   "cell_type": "code",
   "execution_count": null,
   "metadata": {
    "scrolled": false
   },
   "outputs": [],
   "source": [
    "all_images = os.listdir(out_dir_label)\n",
    "\n",
    "results = pd.DataFrame(columns=[\"Image\", \"Threshold\", \"Precision\"])\n",
    "\n",
    "for image_name in all_images:\n",
    "    # Load ground truth data\n",
    "    ground_truth = skimage.io.imread(dir_gtruth + image_name)\n",
    "    # Transform to label matrix\n",
    "    ground_truth = skimage.morphology.label(ground_truth[:,:,0])\n",
    "    # Load predictions\n",
    "    prediction = skimage.io.imread(out_dir_label + image_name)\n",
    "    \n",
    "    results = compute_results(ground_truth, prediction, results)\n",
    "\n"
   ]
  },
  {
   "cell_type": "code",
   "execution_count": null,
   "metadata": {},
   "outputs": [],
   "source": [
    "average_precision = results.groupby(\"Threshold\").mean().reset_index()\n",
    "average_precision"
   ]
  },
  {
   "cell_type": "code",
   "execution_count": null,
   "metadata": {},
   "outputs": [],
   "source": [
    "sb.regplot(data=average_precision, x=\"Threshold\", y=\"Precision\", order=3, ci=None)"
   ]
  },
  {
   "cell_type": "code",
   "execution_count": null,
   "metadata": {},
   "outputs": [],
   "source": [
    "mean_average_precision = average_precision[\"Precision\"].mean()\n",
    "print(\"MAP:\", mean_average_precision)"
   ]
  },
  {
   "cell_type": "code",
   "execution_count": null,
   "metadata": {},
   "outputs": [],
   "source": []
  }
 ],
 "metadata": {
  "kernelspec": {
   "display_name": "Python 3",
   "language": "python",
   "name": "python3"
  },
  "language_info": {
   "codemirror_mode": {
    "name": "ipython",
    "version": 3
   },
   "file_extension": ".py",
   "mimetype": "text/x-python",
   "name": "python",
   "nbconvert_exporter": "python",
   "pygments_lexer": "ipython3",
   "version": "3.6.4"
  }
 },
 "nbformat": 4,
 "nbformat_minor": 2
}
