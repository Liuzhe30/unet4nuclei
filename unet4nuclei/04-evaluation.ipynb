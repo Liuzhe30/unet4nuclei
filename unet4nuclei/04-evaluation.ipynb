{
 "cells": [
  {
   "cell_type": "code",
   "execution_count": null,
   "metadata": {},
   "outputs": [],
   "source": [
    "%matplotlib inline\n",
    "import numpy as np\n",
    "import skimage.io\n",
    "import matplotlib.pyplot as plt\n",
    "import skimage.morphology\n",
    "import skimage.segmentation\n",
    "import os\n",
    "import utils.evaluation\n",
    "import pandas as pd\n",
    "import seaborn as sb"
   ]
  },
  {
   "cell_type": "code",
   "execution_count": null,
   "metadata": {},
   "outputs": [],
   "source": [
    "base_dir = \"/data1/image-segmentation/BBBC022/\"\n",
    "\n",
    "dir_gtruth = base_dir + \"new_renamed_annotations/\"\n",
    "\n",
    "tag = \"01\"\n",
    "\n",
    "dilation_parameter = 3\n",
    "\n",
    "ref_out_dir_label = base_dir + \"unet/experiments/\" + tag + \"/out/segm/\"\n",
    "\n",
    "out_dir_label = base_dir + \"unet/experiments/\" + tag + \"/out/segm/\" "
   ]
  },
  {
   "cell_type": "code",
   "execution_count": null,
   "metadata": {},
   "outputs": [],
   "source": [
    "def show(ground_truth, prediction, IOU, threshold=0.5, image_name=\"N\"):\n",
    "    \n",
    "    # Create diff map\n",
    "    diff = np.zeros(ground_truth.shape + (3,))\n",
    "    A = ground_truth.copy()\n",
    "    B = prediction.copy()\n",
    "    A[A > 0] = 1\n",
    "    B[B > 0] = 1\n",
    "    D = A - B\n",
    "    #diff[D > 0,:2] = 1\n",
    "    #diff[D < 0,1:] = 1\n",
    "    \n",
    "    # Object-level errors\n",
    "    C = IOU.copy()\n",
    "    C[C>=threshold] = 1\n",
    "    C[C<threshold] = 0\n",
    "    missed = np.where(np.sum(C,axis=1) == 0)[0]\n",
    "    extra = np.where(np.sum(C,axis=0) == 0)[0]\n",
    "\n",
    "    for m in missed:\n",
    "        diff[ground_truth == m+1, 0] = 1\n",
    "    for e in extra:\n",
    "        diff[prediction == e+1, 2] = 1\n",
    "    \n",
    "    # Display figures\n",
    "    fig, ax = plt.subplots(1, 4, figsize=(18,6))\n",
    "    ax[0].imshow(ground_truth)\n",
    "    ax[0].set_title(\"True objects:\"+str(len(np.unique(ground_truth))))\n",
    "    ax[1].imshow(diff)\n",
    "    ax[1].set_title(\"Segmentation errors:\"+str(len(missed)))\n",
    "    ax[2].imshow(prediction)\n",
    "    ax[2].set_title(\"Predicted objects:\"+str(len(np.unique(prediction))))\n",
    "    ax[3].imshow(IOU)\n",
    "    ax[3].set_title(image_name)"
   ]
  },
  {
   "cell_type": "code",
   "execution_count": null,
   "metadata": {},
   "outputs": [],
   "source": [
    "def compute_results(ground_truth, prediction, results, image_name):\n",
    "    \n",
    "    # Compute Intersection over Union\n",
    "    IOU = utils.evaluation.intersection_over_union(ground_truth, prediction)\n",
    "    show(ground_truth, prediction, IOU, image_name=image_name)\n",
    "\n",
    "    # Calculate precision at all thresholds\n",
    "    for t in np.arange(0.5, 1.0, 0.05):\n",
    "        p = utils.evaluation.precision_at(t, IOU)\n",
    "        res = {\"Image\": image_name, \"Threshold\": t, \"Precision\": p}\n",
    "        row = len(results)\n",
    "        results.loc[row] = res\n",
    "        \n",
    "    return results"
   ]
  },
  {
   "cell_type": "code",
   "execution_count": null,
   "metadata": {},
   "outputs": [],
   "source": [
    "def get_false_negatives(ground_truth, prediction, results, image_name, threshold=0.7):\n",
    "    \n",
    "    # Compute Intersection over Union\n",
    "    IOU = utils.evaluation.intersection_over_union(ground_truth, prediction)\n",
    "\n",
    "    true_objects = len(np.unique(ground_truth))\n",
    "    if true_objects <= 1:\n",
    "        return results\n",
    "        \n",
    "    area_true = np.histogram(ground_truth, bins=true_objects)[0][1:]\n",
    "    true_objects -= 1\n",
    "    \n",
    "    # Identify False Negatives\n",
    "    matches = IOU > threshold\n",
    "    false_negatives = np.sum(matches, axis=1) == 0  # Missed objects\n",
    "\n",
    "    data = np.asarray([ \n",
    "        area_true.copy(), \n",
    "        np.array(false_negatives, dtype=np.int32)\n",
    "    ])\n",
    "\n",
    "    results = pd.concat([results, pd.DataFrame(data=data.T, columns=[\"Area\", \"False_Negative\"])])\n",
    "        \n",
    "    return results"
   ]
  },
  {
   "cell_type": "code",
   "execution_count": null,
   "metadata": {},
   "outputs": [],
   "source": [
    "def get_splits_and_merges(ground_truth, prediction, results, image_name):\n",
    "    \n",
    "    IOU = utils.evaluation.intersection_over_union(ground_truth, prediction)\n",
    "    matches = IOU > 0.3\n",
    "    merges = np.sum(matches, axis=0) > 1\n",
    "    splits = np.sum(matches, axis=1) > 1\n",
    "    r = {\"Image_Name\":image_name, \"Merges\":np.sum(merges), \"Splits\":np.sum(splits)}\n",
    "    results.loc[len(results)+1] = r\n",
    "    return results"
   ]
  },
  {
   "cell_type": "code",
   "execution_count": null,
   "metadata": {
    "scrolled": true
   },
   "outputs": [],
   "source": [
    "all_images = os.listdir(ref_out_dir_label)\n",
    "\n",
    "results = pd.DataFrame(columns=[\"Image\", \"Threshold\", \"Precision\"])\n",
    "false_negatives = pd.DataFrame(columns=[\"False_Negative\", \"Area\"])\n",
    "splits_merges = pd.DataFrame(columns=[\"Image_Name\", \"Merges\",\"Splits\"])\n",
    "\n",
    "for image_name in all_images:\n",
    "    # Load ground truth data\n",
    "    ground_truth = skimage.io.imread(dir_gtruth + image_name)\n",
    "    \n",
    "    # Transform to label matrix\n",
    "    ground_truth = skimage.morphology.label(ground_truth[:,:,0])\n",
    "    \n",
    "    # Load predictions\n",
    "    prediction = skimage.io.imread(out_dir_label + image_name)\n",
    "    prediction = skimage.morphology.dilation(prediction, skimage.morphology.square(dilation_parameter))\n",
    "    \n",
    "    # Compute evaluation metrics\n",
    "    results = compute_results(ground_truth, prediction, results)\n",
    "    false_negatives = get_false_negatives(ground_truth, prediction, results)\n",
    "    splits_merges = get_splits_and_merges(ground_truth, prediction, results)"
   ]
  },
  {
   "cell_type": "code",
   "execution_count": null,
   "metadata": {},
   "outputs": [],
   "source": [
    "# Display average precision results\n",
    "average_precision = results.groupby(\"Threshold\").mean().reset_index()\n",
    "average_precision"
   ]
  },
  {
   "cell_type": "code",
   "execution_count": null,
   "metadata": {},
   "outputs": [],
   "source": [
    "# Plot average precision results\n",
    "sb.regplot(data=average_precision, x=\"Threshold\", y=\"Precision\", order=3, ci=None)"
   ]
  },
  {
   "cell_type": "code",
   "execution_count": null,
   "metadata": {},
   "outputs": [],
   "source": [
    "# Compute and print Mean Average Precision\n",
    "mean_average_precision = average_precision[\"Precision\"].mean()\n",
    "print(\"MAP:\", mean_average_precision)"
   ]
  },
  {
   "cell_type": "code",
   "execution_count": null,
   "metadata": {},
   "outputs": [],
   "source": [
    "# Summarize False Negatives by area\n",
    "false_negatives = false_negatives[false_negatives[\"False_Negative\"] == 1]\n",
    "\n",
    "false_negatives.groupby(\n",
    "    pd.cut(\n",
    "        false_negatives[\"Area\"], \n",
    "        [0,250,625,900,10000], # Area intervals\n",
    "        labels=[\"Micronuclei\",\"Small nuclei\",\"Normal nuclei\",\"Large nuclei\"],\n",
    "    )\n",
    ")[\"False_Negative\"].sum()"
   ]
  },
  {
   "cell_type": "code",
   "execution_count": null,
   "metadata": {},
   "outputs": [],
   "source": [
    "# Summarize splits and merges\n",
    "print(\"Splits:\",np.sum(splits_merges[\"Splits\"]))\n",
    "print(\"Merges:\",np.sum(splits_merges[\"Merges\"]))"
   ]
  }
 ],
 "metadata": {
  "kernelspec": {
   "display_name": "Python 3",
   "language": "python",
   "name": "python3"
  },
  "language_info": {
   "codemirror_mode": {
    "name": "ipython",
    "version": 3
   },
   "file_extension": ".py",
   "mimetype": "text/x-python",
   "name": "python",
   "nbconvert_exporter": "python",
   "pygments_lexer": "ipython3",
   "version": "3.6.4"
  }
 },
 "nbformat": 4,
 "nbformat_minor": 2
}
